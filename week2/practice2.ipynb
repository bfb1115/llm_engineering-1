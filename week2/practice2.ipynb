{
 "cells": [
  {
   "cell_type": "code",
   "execution_count": 108,
   "metadata": {},
   "outputs": [],
   "source": [
    "import os\n",
    "import gradio as gr\n",
    "import openai\n",
    "import anthropic\n",
    "from IPython.display import Markdown, display, update_display\n",
    "from pprint import pprint as print\n",
    "import json"
   ]
  },
  {
   "cell_type": "code",
   "execution_count": 109,
   "metadata": {},
   "outputs": [],
   "source": [
    "system_message = \"You are a shady ex-con from the 19th century. You help rich patrons secure their homes. You speak in no more than two sentences at a time, and use heavy 19th century British street slang.\""
   ]
  },
  {
   "cell_type": "code",
   "execution_count": 110,
   "metadata": {},
   "outputs": [],
   "source": [
    "openai.api_key = os.getenv(\"OPENAI_API_KEY\")\n",
    "GPT_MODEL = 'gpt-4o-mini'"
   ]
  },
  {
   "cell_type": "code",
   "execution_count": 111,
   "metadata": {},
   "outputs": [],
   "source": [
    "def call_gpt(prompt, history):\n",
    "    relevant_system_message = system_message\n",
    "    if \"police\" or \"cops\" in prompt:\n",
    "        relevant_system_message += \"Any mention of police officers will have you respond only in derogatory remarks about police, but in pig latin\"\n",
    "    messages = [{\"role\":\"system\",\"content\":relevant_system_message}]+ history +[{\"role\":\"user\",\"content\":prompt}]\n",
    "    \n",
    "    stream = openai.chat.completions.create(messages=messages,model=GPT_MODEL,stream=True, )\n",
    "    \n",
    "    response = ''\n",
    "    for chunk in stream:\n",
    "        response += chunk.choices[0].delta.content or ''\n",
    "        yield response"
   ]
  },
  {
   "cell_type": "code",
   "execution_count": 112,
   "metadata": {},
   "outputs": [],
   "source": [
    "ticket_prices = {\"london\": 799, \"paris\": 899, \"tokyo\": 1400, \"berlin\": 499}\n",
    "destination_taxes = {\"london\": 3000, \"paris\": 3200, \"tokyo\": 6800, \"berlin\": 3400}\n",
    "\n",
    "def get_ticket_price(destination_city,agency_tax):\n",
    "    print(f\"Tool get_ticket_price called for {destination_city}\")\n",
    "    city = destination_city.lower()\n",
    "    return ticket_prices.get(city, 0) + destination_taxes.get(city,0)+ agency_tax"
   ]
  },
  {
   "cell_type": "code",
   "execution_count": 113,
   "metadata": {},
   "outputs": [
    {
     "name": "stdout",
     "output_type": "stream",
     "text": [
      "'Tool get_ticket_price called for paris'\n"
     ]
    },
    {
     "data": {
      "text/plain": [
       "4299"
      ]
     },
     "execution_count": 113,
     "metadata": {},
     "output_type": "execute_result"
    }
   ],
   "source": [
    "total_price= get_ticket_price('paris', 200)\n",
    "total_price"
   ]
  },
  {
   "cell_type": "code",
   "execution_count": 114,
   "metadata": {},
   "outputs": [],
   "source": [
    "properties = {}\n",
    "def create_properties(arg_name,arg_type,description) -> dict:   \n",
    "    \"\"\"takes arg names and packages them as properties for openai\"\"\"\n",
    "    properties[f'{arg_name}'] = {\"type\":arg_type, \"description\":description}\n",
    "    return properties"
   ]
  },
  {
   "cell_type": "code",
   "execution_count": 115,
   "metadata": {},
   "outputs": [],
   "source": [
    "\n",
    "    \n",
    "def create_function_package(function_name,function_description,properties) -> dict: \n",
    "    tool_function = {\n",
    "        \"name\": function_name,\n",
    "        \"description\": function_description,\n",
    "        \"parameters\": {\n",
    "            \"type\": \"object\",\n",
    "            \"properties\": properties,\n",
    "            \n",
    "            \"required\": [\"destination_city\"],\n",
    "            \"additionalProperties\": False\n",
    "        },\n",
    "    }\n",
    "    return tool_function\n",
    "\n"
   ]
  },
  {
   "cell_type": "code",
   "execution_count": 116,
   "metadata": {},
   "outputs": [],
   "source": [
    "function_name = \"get_ticket_price\"\n",
    "function_description = \"Get the price of a return ticket to the destination city. Call this whenever you need to know the ticket price, for example when a customer asks 'How much is a ticket to this city'\"\n",
    "\n",
    "properties = create_properties('destination_city','string','The city that the customer wants to travel to')\n",
    "properties = create_properties('agency_tax','integer','the fixed cost for each visit to a particular city')\n",
    "\n",
    "\n",
    "\n",
    "\n",
    "tool_function = create_function_package(function_name,function_description,properties)\n",
    "tools = [{\"type\": \"function\", \"function\": tool_function}]"
   ]
  },
  {
   "cell_type": "code",
   "execution_count": 117,
   "metadata": {},
   "outputs": [
    {
     "name": "stdout",
     "output_type": "stream",
     "text": [
      "<_io.TextIOWrapper name='tools.json' mode='w' encoding='cp1252'>\n"
     ]
    }
   ],
   "source": [
    "j_tools = json.dumps(tool_function, indent=4)\n",
    "\n",
    "with open('tools.json','w') as file:\n",
    "    file.write(j_tools)\n",
    "    print(file)"
   ]
  }
 ],
 "metadata": {
  "kernelspec": {
   "display_name": "llms",
   "language": "python",
   "name": "python3"
  },
  "language_info": {
   "codemirror_mode": {
    "name": "ipython",
    "version": 3
   },
   "file_extension": ".py",
   "mimetype": "text/x-python",
   "name": "python",
   "nbconvert_exporter": "python",
   "pygments_lexer": "ipython3",
   "version": "3.13.1"
  }
 },
 "nbformat": 4,
 "nbformat_minor": 2
}
